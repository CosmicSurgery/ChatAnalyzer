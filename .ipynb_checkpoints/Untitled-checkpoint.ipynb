{
 "cells": [
  {
   "cell_type": "code",
   "execution_count": 1,
   "id": "a492e2a0-2827-422f-a260-ded411d07875",
   "metadata": {},
   "outputs": [
    {
     "ename": "ModuleNotFoundError",
     "evalue": "No module named 'scripts.parsedData'",
     "output_type": "error",
     "traceback": [
      "\u001b[1;31m---------------------------------------------------------------------------\u001b[0m",
      "\u001b[1;31mModuleNotFoundError\u001b[0m                       Traceback (most recent call last)",
      "Cell \u001b[1;32mIn[1], line 2\u001b[0m\n\u001b[0;32m      1\u001b[0m \u001b[38;5;28;01mimport\u001b[39;00m\u001b[38;5;250m \u001b[39m\u001b[38;5;21;01mpandas\u001b[39;00m\u001b[38;5;250m \u001b[39m\u001b[38;5;28;01mas\u001b[39;00m\u001b[38;5;250m \u001b[39m\u001b[38;5;21;01mpd\u001b[39;00m\n\u001b[1;32m----> 2\u001b[0m \u001b[38;5;28;01mfrom\u001b[39;00m\u001b[38;5;250m \u001b[39m\u001b[38;5;21;01mscripts\u001b[39;00m\u001b[38;5;21;01m.\u001b[39;00m\u001b[38;5;21;01mparsedData\u001b[39;00m\u001b[38;5;250m \u001b[39m\u001b[38;5;28;01mimport\u001b[39;00m parsedData \u001b[38;5;28;01mas\u001b[39;00m data\n\u001b[0;32m      4\u001b[0m df \u001b[38;5;241m=\u001b[39m pd\u001b[38;5;241m.\u001b[39mDataFrame(data, columns\u001b[38;5;241m=\u001b[39m[\u001b[38;5;124m'\u001b[39m\u001b[38;5;124mDate\u001b[39m\u001b[38;5;124m'\u001b[39m, \u001b[38;5;124m'\u001b[39m\u001b[38;5;124mTime\u001b[39m\u001b[38;5;124m'\u001b[39m, \u001b[38;5;124m'\u001b[39m\u001b[38;5;124mAuthor\u001b[39m\u001b[38;5;124m'\u001b[39m, \u001b[38;5;124m'\u001b[39m\u001b[38;5;124mMessage\u001b[39m\u001b[38;5;124m'\u001b[39m, \u001b[38;5;124m'\u001b[39m\u001b[38;5;124mConversation\u001b[39m\u001b[38;5;124m'\u001b[39m])\n\u001b[0;32m      6\u001b[0m authors \u001b[38;5;241m=\u001b[39m df[\u001b[38;5;124m'\u001b[39m\u001b[38;5;124mAuthor\u001b[39m\u001b[38;5;124m'\u001b[39m]\u001b[38;5;241m.\u001b[39munique()\n",
      "\u001b[1;31mModuleNotFoundError\u001b[0m: No module named 'scripts.parsedData'"
     ]
    }
   ],
   "source": [
    "import pandas as pd\n",
    "import parsedData as data\n",
    "\n",
    "df = pd.DataFrame(data, columns=['Date', 'Time', 'Author', 'Message', 'Conversation'])\n",
    "\n",
    "authors = df['Author'].unique()\n",
    "conversations = df['Conversation'].unique()\n",
    "\n",
    "df = df.drop(df[df['Author'].isnull()].index)\n",
    "df['Word Count'] = df['Message'].apply(lambda s : len(s.split(' ')))\n",
    "\n",
    "df['Datetime'] = df['Date'] +' '+ df['Time']\n",
    "df['Datetime'] = pd.to_datetime(df['Datetime'])\n",
    "\n",
    "df['Sent Messages'] = 1\n",
    "df['Sent Words'] = df['Word Count']\n",
    "df['WPM'] = 0\n",
    "df['Total Messages'] = 1\n",
    "df['Total Words'] = df['Word Count']\n",
    "\n",
    "new_df = pd.DataFrame()\n",
    "\n",
    "for group in conversations:\n",
    "    subset_group = df[df.Conversation == group].copy()\n",
    "    authors = list(subset_group.Author.unique())\n",
    "    \n",
    "    subset_group['Total Messages'] = subset_group['Total Messages'].cumsum()\n",
    "    subset_group['Total Words'] = subset_group['Total Words'].cumsum()\n",
    "\n",
    "    for key in authors:\n",
    "        subset = subset_group[subset_group.Author == key].copy()\n",
    "        \n",
    "        subset['Sent Messages'] = subset['Sent Messages'].cumsum()\n",
    "        subset['Sent Words'] = subset['Sent Words'].cumsum()\n",
    "        \n",
    "        new_df = new_df.append(subset)\n",
    "        \n",
    "\n",
    "df = new_df[['Datetime', 'Author', 'Conversation', 'Sent Messages', 'Sent Words', 'WPM', 'Total Messages', 'Total Words']].copy()\n",
    "df['WPM'] = df['Sent Words'] / df['Sent Messages']\n",
    "df = df.sort_values(['Datetime'])\n"
   ]
  },
  {
   "cell_type": "code",
   "execution_count": null,
   "id": "04cbed46-98eb-46a8-94f2-48ec2c486669",
   "metadata": {},
   "outputs": [],
   "source": []
  }
 ],
 "metadata": {
  "kernelspec": {
   "display_name": "Python 3 (ipykernel)",
   "language": "python",
   "name": "python3"
  },
  "language_info": {
   "codemirror_mode": {
    "name": "ipython",
    "version": 3
   },
   "file_extension": ".py",
   "mimetype": "text/x-python",
   "name": "python",
   "nbconvert_exporter": "python",
   "pygments_lexer": "ipython3",
   "version": "3.13.2"
  }
 },
 "nbformat": 4,
 "nbformat_minor": 5
}
